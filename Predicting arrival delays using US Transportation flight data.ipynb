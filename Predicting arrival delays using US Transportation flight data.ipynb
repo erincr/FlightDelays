{
 "cells": [
  {
   "cell_type": "markdown",
   "metadata": {},
   "source": [
    "# Challenge for Startup.ml"
   ]
  },
  {
   "cell_type": "markdown",
   "metadata": {},
   "source": [
    "Erin Craig\n",
    "4/2/2016"
   ]
  },
  {
   "cell_type": "markdown",
   "metadata": {},
   "source": [
    "I want to predict arrival delays using day of month, day of week, arrival airport, destination airport, and flight ID."
   ]
  },
  {
   "cell_type": "code",
   "execution_count": 23,
   "metadata": {
    "collapsed": false
   },
   "outputs": [],
   "source": [
    "import pandas\n",
    "import numpy as np\n",
    "from sklearn.pipeline import Pipeline\n",
    "from sklearn.svm import LinearSVC\n",
    "from sklearn.feature_selection import SelectFromModel\n",
    "from sklearn.ensemble import RandomForestClassifier\n",
    "from sklearn.cross_validation import train_test_split\n",
    "from sklearn.metrics import roc_curve, auc\n",
    "from sklearn.lda import LDA\n",
    "from sklearn import linear_model, datasets"
   ]
  },
  {
   "cell_type": "markdown",
   "metadata": {},
   "source": [
    "## Introduction and data"
   ]
  },
  {
   "cell_type": "markdown",
   "metadata": {},
   "source": [
    "The goal of this document is to use the US Dept. of Transportation on-time arrival data for non-stop domestic flights by major air carriers to predict arrival delays. We will build a binary classification model for predicting arrival delays. \n",
    "\n",
    "The data can be found [here](http://transtats.bts.gov/Tables.asp?DB_ID=120&DB_Name=Airline%20On-Time%20Performance%20Data&DB_Short_Name=On-Time). I chose to use data from January 2016 and January 2015.\n",
    "\n",
    "In this notebook, we try three classification models: logistic regression, a random forest, and LDA. They all show roughly the same behavior: the AUC in all cases was roughly .64. Looking forward, I would like to download 12 months of data. My intuition is that the month of the year is meaningful because it is an indicator of weather (when taken into account with departure airport)."
   ]
  },
  {
   "cell_type": "markdown",
   "metadata": {},
   "source": [
    "## Read and clean"
   ]
  },
  {
   "cell_type": "markdown",
   "metadata": {},
   "source": [
    "First, read the flights data (from January 2015 and 2016), and add a binary column indicating whether or not there was a delay. Then, take the categorical variables (airport ids, airline ids), and convert them into dummy variables."
   ]
  },
  {
   "cell_type": "code",
   "execution_count": 9,
   "metadata": {
    "collapsed": false
   },
   "outputs": [],
   "source": [
    "flights2016 = pandas.read_csv(\"./data/834057395_T_ONTIME.csv\")\n",
    "flights2015 = pandas.read_csv(\"./data/834086792_T_ONTIME.csv\")\n",
    "\n",
    "flights2016.drop(\n",
    "    ['UNIQUE_CARRIER', 'CARRIER', 'ORIGIN_AIRPORT_SEQ_ID', 'ORIGIN_CITY_MARKET_ID', 'DEST_AIRPORT_SEQ_ID',\n",
    "     'DEST_CITY_MARKET_ID', 'ARR_DELAY_NEW', 'ARR_DEL15', 'ARR_DELAY_GROUP', 'FL_DATE', 'MONTH', 'Unnamed: 18'], \n",
    "axis = 1, inplace = True)\n",
    "\n",
    "flights2015['YEAR'] = 2015\n",
    "\n",
    "flights = pandas.concat([flights2016, flights2015])\n",
    "\n",
    "# Create a binary column: delay or not?\n",
    "flights[\"ArrDelayQ\"] = flights[\"ARR_DELAY\"] > 0\n",
    "\n",
    "# Turn departure cities into dummy variables\n",
    "airport_ids = pandas.get_dummies(flights['ORIGIN_AIRPORT_ID'])\n",
    "airline_ids = pandas.get_dummies(flights['AIRLINE_ID'])\n",
    "dest_airport_ids = pandas.get_dummies(flights['DEST_AIRPORT_ID'])\n",
    "# this it to avoid confusion with departure airport ids:\n",
    "dest_airport_ids.columns = dest_airport_ids.columns * 10\n",
    "\n",
    "flights = pandas.concat([flights, airport_ids], axis=1)   \n",
    "flights = pandas.concat([flights, airline_ids], axis=1)   \n",
    "flights = pandas.concat([flights, dest_airport_ids], axis=1)   \n",
    "flights.drop(['ORIGIN_AIRPORT_ID', 'AIRLINE_ID', 'DEST_AIRPORT_ID', 'ARR_DELAY', 'Unnamed: 5'], inplace=True, axis=1)"
   ]
  },
  {
   "cell_type": "code",
   "execution_count": 11,
   "metadata": {
    "collapsed": false
   },
   "outputs": [
    {
     "data": {
      "text/html": [
       "<div>\n",
       "<table border=\"1\" class=\"dataframe\">\n",
       "  <thead>\n",
       "    <tr style=\"text-align: right;\">\n",
       "      <th></th>\n",
       "      <th>DAY_OF_MONTH</th>\n",
       "      <th>DAY_OF_WEEK</th>\n",
       "      <th>YEAR</th>\n",
       "      <th>ArrDelayQ</th>\n",
       "      <th>10135</th>\n",
       "      <th>10136</th>\n",
       "      <th>10140</th>\n",
       "      <th>10141</th>\n",
       "      <th>10146</th>\n",
       "      <th>10155</th>\n",
       "      <th>...</th>\n",
       "      <th>154110</th>\n",
       "      <th>154120</th>\n",
       "      <th>154970</th>\n",
       "      <th>155820</th>\n",
       "      <th>156070</th>\n",
       "      <th>156240</th>\n",
       "      <th>158410</th>\n",
       "      <th>159190</th>\n",
       "      <th>159910</th>\n",
       "      <th>162180</th>\n",
       "    </tr>\n",
       "  </thead>\n",
       "  <tbody>\n",
       "    <tr>\n",
       "      <th>0</th>\n",
       "      <td>6</td>\n",
       "      <td>3</td>\n",
       "      <td>2016</td>\n",
       "      <td>False</td>\n",
       "      <td>0.0</td>\n",
       "      <td>0.0</td>\n",
       "      <td>0.0</td>\n",
       "      <td>0.0</td>\n",
       "      <td>0.0</td>\n",
       "      <td>0.0</td>\n",
       "      <td>...</td>\n",
       "      <td>0.0</td>\n",
       "      <td>0.0</td>\n",
       "      <td>0.0</td>\n",
       "      <td>0.0</td>\n",
       "      <td>0.0</td>\n",
       "      <td>0.0</td>\n",
       "      <td>0.0</td>\n",
       "      <td>0.0</td>\n",
       "      <td>0.0</td>\n",
       "      <td>0.0</td>\n",
       "    </tr>\n",
       "    <tr>\n",
       "      <th>1</th>\n",
       "      <td>7</td>\n",
       "      <td>4</td>\n",
       "      <td>2016</td>\n",
       "      <td>False</td>\n",
       "      <td>0.0</td>\n",
       "      <td>0.0</td>\n",
       "      <td>0.0</td>\n",
       "      <td>0.0</td>\n",
       "      <td>0.0</td>\n",
       "      <td>0.0</td>\n",
       "      <td>...</td>\n",
       "      <td>0.0</td>\n",
       "      <td>0.0</td>\n",
       "      <td>0.0</td>\n",
       "      <td>0.0</td>\n",
       "      <td>0.0</td>\n",
       "      <td>0.0</td>\n",
       "      <td>0.0</td>\n",
       "      <td>0.0</td>\n",
       "      <td>0.0</td>\n",
       "      <td>0.0</td>\n",
       "    </tr>\n",
       "    <tr>\n",
       "      <th>2</th>\n",
       "      <td>8</td>\n",
       "      <td>5</td>\n",
       "      <td>2016</td>\n",
       "      <td>True</td>\n",
       "      <td>0.0</td>\n",
       "      <td>0.0</td>\n",
       "      <td>0.0</td>\n",
       "      <td>0.0</td>\n",
       "      <td>0.0</td>\n",
       "      <td>0.0</td>\n",
       "      <td>...</td>\n",
       "      <td>0.0</td>\n",
       "      <td>0.0</td>\n",
       "      <td>0.0</td>\n",
       "      <td>0.0</td>\n",
       "      <td>0.0</td>\n",
       "      <td>0.0</td>\n",
       "      <td>0.0</td>\n",
       "      <td>0.0</td>\n",
       "      <td>0.0</td>\n",
       "      <td>0.0</td>\n",
       "    </tr>\n",
       "    <tr>\n",
       "      <th>3</th>\n",
       "      <td>9</td>\n",
       "      <td>6</td>\n",
       "      <td>2016</td>\n",
       "      <td>False</td>\n",
       "      <td>0.0</td>\n",
       "      <td>0.0</td>\n",
       "      <td>0.0</td>\n",
       "      <td>0.0</td>\n",
       "      <td>0.0</td>\n",
       "      <td>0.0</td>\n",
       "      <td>...</td>\n",
       "      <td>0.0</td>\n",
       "      <td>0.0</td>\n",
       "      <td>0.0</td>\n",
       "      <td>0.0</td>\n",
       "      <td>0.0</td>\n",
       "      <td>0.0</td>\n",
       "      <td>0.0</td>\n",
       "      <td>0.0</td>\n",
       "      <td>0.0</td>\n",
       "      <td>0.0</td>\n",
       "    </tr>\n",
       "    <tr>\n",
       "      <th>4</th>\n",
       "      <td>10</td>\n",
       "      <td>7</td>\n",
       "      <td>2016</td>\n",
       "      <td>True</td>\n",
       "      <td>0.0</td>\n",
       "      <td>0.0</td>\n",
       "      <td>0.0</td>\n",
       "      <td>0.0</td>\n",
       "      <td>0.0</td>\n",
       "      <td>0.0</td>\n",
       "      <td>...</td>\n",
       "      <td>0.0</td>\n",
       "      <td>0.0</td>\n",
       "      <td>0.0</td>\n",
       "      <td>0.0</td>\n",
       "      <td>0.0</td>\n",
       "      <td>0.0</td>\n",
       "      <td>0.0</td>\n",
       "      <td>0.0</td>\n",
       "      <td>0.0</td>\n",
       "      <td>0.0</td>\n",
       "    </tr>\n",
       "  </tbody>\n",
       "</table>\n",
       "<p>5 rows × 648 columns</p>\n",
       "</div>"
      ],
      "text/plain": [
       "   DAY_OF_MONTH  DAY_OF_WEEK  YEAR ArrDelayQ  10135  10136  10140  10141  \\\n",
       "0             6            3  2016     False    0.0    0.0    0.0    0.0   \n",
       "1             7            4  2016     False    0.0    0.0    0.0    0.0   \n",
       "2             8            5  2016      True    0.0    0.0    0.0    0.0   \n",
       "3             9            6  2016     False    0.0    0.0    0.0    0.0   \n",
       "4            10            7  2016      True    0.0    0.0    0.0    0.0   \n",
       "\n",
       "   10146  10155   ...    154110  154120  154970  155820  156070  156240  \\\n",
       "0    0.0    0.0   ...       0.0     0.0     0.0     0.0     0.0     0.0   \n",
       "1    0.0    0.0   ...       0.0     0.0     0.0     0.0     0.0     0.0   \n",
       "2    0.0    0.0   ...       0.0     0.0     0.0     0.0     0.0     0.0   \n",
       "3    0.0    0.0   ...       0.0     0.0     0.0     0.0     0.0     0.0   \n",
       "4    0.0    0.0   ...       0.0     0.0     0.0     0.0     0.0     0.0   \n",
       "\n",
       "   158410  159190  159910  162180  \n",
       "0     0.0     0.0     0.0     0.0  \n",
       "1     0.0     0.0     0.0     0.0  \n",
       "2     0.0     0.0     0.0     0.0  \n",
       "3     0.0     0.0     0.0     0.0  \n",
       "4     0.0     0.0     0.0     0.0  \n",
       "\n",
       "[5 rows x 648 columns]"
      ]
     },
     "execution_count": 11,
     "metadata": {},
     "output_type": "execute_result"
    }
   ],
   "source": [
    "flights.head()"
   ]
  },
  {
   "cell_type": "markdown",
   "metadata": {},
   "source": [
    "## Classification: logistic regression"
   ]
  },
  {
   "cell_type": "markdown",
   "metadata": {},
   "source": [
    "We use scikitlearn's feature selection, followed by logistic regression. However, note that some feature selection has already been done: I began by selecting\n",
    "\n",
    "    * day of month \n",
    "    * day of week \n",
    "    * airline \n",
    "    * destination airport\n",
    "    * departure airport \n",
    "\n",
    "Scikitlearn's feature selection occurs after my pre-selection. "
   ]
  },
  {
   "cell_type": "code",
   "execution_count": 24,
   "metadata": {
    "collapsed": false
   },
   "outputs": [
    {
     "data": {
      "text/plain": [
       "Pipeline(steps=[('feature_selection', SelectFromModel(estimator=LinearSVC(C=1.0, class_weight=None, dual=True, fit_intercept=True,\n",
       "     intercept_scaling=1, loss='squared_hinge', max_iter=1000,\n",
       "     multi_class='ovr', penalty='l2', random_state=None, tol=0.0001,\n",
       "     verbose=0),\n",
       "        prefit=False, thresho...ty='l2', random_state=None,\n",
       "          solver='liblinear', tol=0.0001, verbose=0, warm_start=False))])"
      ]
     },
     "execution_count": 24,
     "metadata": {},
     "output_type": "execute_result"
    }
   ],
   "source": [
    "training, test = train_test_split(flights, test_size = 0.5)\n",
    "\n",
    "X = training[[i for i in training.columns if i != 'ArrDelayQ']].values\n",
    "y = training['ArrDelayQ'].values\n",
    "Xtest = test[[i for i in test.columns if i != 'ArrDelayQ']].values\n",
    "ytest = test['ArrDelayQ'].values\n",
    "\n",
    "clf = Pipeline([\n",
    "  ('feature_selection', SelectFromModel(LinearSVC())),\n",
    "  ('classification', linear_model.LogisticRegression(C=1e5))\n",
    "])\n",
    "clf.fit(X, y)"
   ]
  },
  {
   "cell_type": "code",
   "execution_count": 25,
   "metadata": {
    "collapsed": false
   },
   "outputs": [
    {
     "name": "stdout",
     "output_type": "stream",
     "text": [
      "0.638203552593\n"
     ]
    }
   ],
   "source": [
    "disbursed = clf.predict_proba(Xtest)\n",
    "fpr, tpr, _ = roc_curve(ytest, disbursed[:,1])\n",
    "roc_auc = auc(fpr, tpr)\n",
    "print roc_auc"
   ]
  },
  {
   "cell_type": "markdown",
   "metadata": {},
   "source": [
    "## Classification: random forest with feature selection "
   ]
  },
  {
   "cell_type": "markdown",
   "metadata": {},
   "source": [
    "We use scikitlearn's feature selection, followed by its random forest classifier. "
   ]
  },
  {
   "cell_type": "code",
   "execution_count": 12,
   "metadata": {
    "collapsed": false
   },
   "outputs": [
    {
     "data": {
      "text/plain": [
       "Pipeline(steps=[('feature_selection', SelectFromModel(estimator=LinearSVC(C=1.0, class_weight=None, dual=True, fit_intercept=True,\n",
       "     intercept_scaling=1, loss='squared_hinge', max_iter=1000,\n",
       "     multi_class='ovr', penalty='l2', random_state=None, tol=0.0001,\n",
       "     verbose=0),\n",
       "        prefit=False, thresho...n_jobs=1,\n",
       "            oob_score=False, random_state=None, verbose=0,\n",
       "            warm_start=False))])"
      ]
     },
     "execution_count": 12,
     "metadata": {},
     "output_type": "execute_result"
    }
   ],
   "source": [
    "training, test = train_test_split(flights, test_size = 0.5)\n",
    "\n",
    "X = training[[i for i in training.columns if i != 'ArrDelayQ']].values\n",
    "y = training['ArrDelayQ'].values\n",
    "Xtest = test[[i for i in test.columns if i != 'ArrDelayQ']].values\n",
    "ytest = test['ArrDelayQ'].values\n",
    "\n",
    "clf = Pipeline([\n",
    "  ('feature_selection', SelectFromModel(LinearSVC())),\n",
    "  ('classification', RandomForestClassifier(n_estimators=50, criterion = \"entropy\"))\n",
    "])\n",
    "clf.fit(X, y)"
   ]
  },
  {
   "cell_type": "code",
   "execution_count": 14,
   "metadata": {
    "collapsed": false
   },
   "outputs": [
    {
     "name": "stdout",
     "output_type": "stream",
     "text": [
      "0.655441680777\n"
     ]
    }
   ],
   "source": [
    "disbursed = clf.predict_proba(Xtest)\n",
    "fpr, tpr, _ = roc_curve(ytest, disbursed[:,1])\n",
    "roc_auc = auc(fpr, tpr)\n",
    "print roc_auc"
   ]
  },
  {
   "cell_type": "markdown",
   "metadata": {},
   "source": [
    "## Classification: LDA"
   ]
  },
  {
   "cell_type": "markdown",
   "metadata": {},
   "source": [
    "I am curious how my random forest classifier compares to linear discriminant analysis. So let's find out!\n",
    "\n",
    "We use scikitlearn's feature selection, followed by its random forest classifier."
   ]
  },
  {
   "cell_type": "code",
   "execution_count": 20,
   "metadata": {
    "collapsed": false
   },
   "outputs": [
    {
     "data": {
      "text/plain": [
       "Pipeline(steps=[('feature_selection', SelectFromModel(estimator=LinearSVC(C=1.0, class_weight=None, dual=True, fit_intercept=True,\n",
       "     intercept_scaling=1, loss='squared_hinge', max_iter=1000,\n",
       "     multi_class='ovr', penalty='l2', random_state=None, tol=0.0001,\n",
       "     verbose=0),\n",
       "        prefit=False, threshold=None)), ('classification', LinearDiscriminantAnalysis(n_components=None, priors=None, shrinkage=None,\n",
       "              solver='svd', store_covariance=False, tol=1e-06))])"
      ]
     },
     "execution_count": 20,
     "metadata": {},
     "output_type": "execute_result"
    }
   ],
   "source": [
    "training, test = train_test_split(flights, test_size = 0.5)\n",
    "\n",
    "X = training[[i for i in training.columns if i != 'ArrDelayQ']].values\n",
    "y = training['ArrDelayQ'].values\n",
    "Xtest = test[[i for i in test.columns if i != 'ArrDelayQ']].values\n",
    "ytest = test['ArrDelayQ'].values\n",
    "\n",
    "clf = Pipeline([\n",
    "  ('feature_selection', SelectFromModel(LinearSVC())),\n",
    "  ('classification', LDA(tol = .000001))\n",
    "])\n",
    "clf.fit(X, y)"
   ]
  },
  {
   "cell_type": "code",
   "execution_count": 22,
   "metadata": {
    "collapsed": false
   },
   "outputs": [
    {
     "name": "stdout",
     "output_type": "stream",
     "text": [
      "0.6370832771\n"
     ]
    }
   ],
   "source": [
    "disbursed = clf.predict_proba(Xtest)\n",
    "fpr, tpr, _ = roc_curve(ytest, disbursed[:,1])\n",
    "roc_auc = auc(fpr, tpr)\n",
    "print roc_auc"
   ]
  },
  {
   "cell_type": "markdown",
   "metadata": {},
   "source": [
    "## Conclusions and next steps"
   ]
  },
  {
   "cell_type": "markdown",
   "metadata": {},
   "source": [
    "Because these models had such similar results, I suspect that we need a different data set to see better results. But I also think this is a good start! \n",
    "\n",
    "Regarding the model choice, I would be curious to try again with SVM. I do not have a strong intuition that it would dramatically outperform the models we have so far, but it would be fun to try.\n",
    "\n",
    "Regarding the data, I wonder whether month of the year might influence departure delays. I suspect that it would - the combination of location and month gives a nod toward weather (Cleveland, OH in January probably has more delays than it does in July). This would just involve downloading 12 months of data and concatenating (as above for 2015 and 2016).\n",
    "\n",
    "It would be fun to know whether individual pilot/copilot pairs influence timeliness of flights. I suspect that they would influence delays very little, but it would be fun to know. Given the data, I could use lasso or ridge regression - or scikit learn's model selection."
   ]
  }
 ],
 "metadata": {
  "kernelspec": {
   "display_name": "Python 2",
   "language": "python",
   "name": "python2"
  },
  "language_info": {
   "codemirror_mode": {
    "name": "ipython",
    "version": 2
   },
   "file_extension": ".py",
   "mimetype": "text/x-python",
   "name": "python",
   "nbconvert_exporter": "python",
   "pygments_lexer": "ipython2",
   "version": "2.7.11"
  }
 },
 "nbformat": 4,
 "nbformat_minor": 0
}
